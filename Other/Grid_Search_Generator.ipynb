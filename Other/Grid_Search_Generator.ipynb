{
 "cells": [
  {
   "cell_type": "code",
   "execution_count": 9,
   "metadata": {
    "collapsed": true
   },
   "outputs": [],
   "source": [
    "import pandas as pd\n",
    "import numpy as np"
   ]
  },
  {
   "cell_type": "code",
   "execution_count": 14,
   "metadata": {
    "collapsed": false
   },
   "outputs": [],
   "source": [
    "load_stuff=False\n",
    "replay_capacity=1000000\n",
    "batch_size=1024\n",
    "seed_braids=[[1, 1, 1],\n",
    "             [1, -2, 1, -2],\n",
    "             [1, 1, 1, 2, -1, 2],\n",
    "             [1, 1, -2, 1, -2, -2],\n",
    "             [1, 1, 1, -2, 1, -2]]\n",
    "start_states_capacity=1000000\n",
    "max_braid_index=6\n",
    "max_braid_length=10\n",
    "\n",
    "uniform=True\n",
    "move_penalties=[0.07, 0.09, 0.1, 0.15]\n",
    "seed_probs=[0.1, 0.5]\n",
    "\n",
    "#try longer networks\n",
    "#Double Dueling DQN\n",
    "output_size=13 #should be the number of actions the agent can take in the MDP\n",
    "architectures_list = [{'Hidden': (512, 512, 512), 'Value': (512, 1),'Advantage': (512, 13)},\n",
    "                      {'Hidden': (1024, 1024, 1024), 'Value': (1024, 1),'Advantage': (1024, 13)},\n",
    "                      {'Hidden': (2048, 2048, 2048), 'Value': (2048, 1),'Advantage': (2048, 13)}]\n",
    "                      \n",
    "\n",
    "transfer_rate=2000\n",
    "gamma=0.99\n",
    "learning_rates=[0.000000001, 0.0000000003, 0.000000001]\n",
    "\n",
    "#Training\n",
    "euler_char_reset=-8 #algorithm will initialize state if any eulerchar falls below euler_char_reset\n",
    "max_actions_length=40 #initialize_state() is called if an episode takes more actions than max_actions_length\n",
    "\n",
    "#epsilon parameters to linearly decrease epsilon from start_epsilon to final_epsilon over\n",
    "#num_decrease_epochs. If a model is loaded (i.e. load_stuff=True), epsilon wil be the\n",
    "#final_epsilon and will not change.\n",
    "start_epsilon=1\n",
    "final_epsilon=0.1\n",
    "num_decrease_epochs=250000\n",
    "\n",
    "store_rate=10000 #how often (in epochs) to store values for matplotlib lists\n",
    "report_policy_rate=1000\n",
    "num_epochs=2000000\n",
    "moves_per_epoch=4"
   ]
  },
  {
   "cell_type": "code",
   "execution_count": 15,
   "metadata": {
    "collapsed": false
   },
   "outputs": [],
   "source": [
    "columns=[\"load_stuff\", \"load_job_name\", \"save_job_name\", \"replay_capacity\", \"batch_size\", \"seed_braids\", \"start_states_capacity\",\n",
    "         \"max_braid_index\", \"max_braid_length\", \"uniform\", \"move_penalty\", \"seed_prob\", \"output_size\", \"architextures\",\n",
    "         \"transfer_rate\", \"gamma\", \"learning_rate\", \"euler_char_reset\", \"max_actions_length\", \"start_epsilon\",\n",
    "         \"final_epsilon\", \"num_decrease_epochs\", \"store_rate\", \"report_policy_rate\", \"num_epochs\", \"moves_per_epoch\"]\n",
    "load_stuff=False\n",
    "job_name=\"SliceEnv_try_\"\n",
    "i=0\n",
    "df = pd.DataFrame(columns=columns)\n",
    "for move_penalty in move_penalties:\n",
    "    for seed_prob in seed_probs:\n",
    "        for architextures in architectures_list:\n",
    "            for learning_rate in learning_rates:\n",
    "                vals=[load_stuff,\n",
    "                      job_name+str(i),\n",
    "                      job_name+str(i),\n",
    "                      replay_capacity,\n",
    "                      batch_size,\n",
    "                      seed_braids,\n",
    "                      start_states_capacity,\n",
    "                      max_braid_index,\n",
    "                      max_braid_length,\n",
    "                      uniform,\n",
    "                      move_penalty,\n",
    "                      seed_prob,\n",
    "                      output_size,\n",
    "                      architextures,\n",
    "                      transfer_rate,\n",
    "                      gamma,\n",
    "                      learning_rate,\n",
    "                      euler_char_reset,\n",
    "                      max_actions_length,\n",
    "                      start_epsilon,\n",
    "                      final_epsilon,\n",
    "                      num_decrease_epochs,\n",
    "                      store_rate,\n",
    "                      report_policy_rate,\n",
    "                      num_epochs,\n",
    "                      moves_per_epoch]\n",
    "                row=dict(zip(columns, vals))\n",
    "                df=df.append(row, ignore_index=True)\n",
    "                i+=1                   \n"
   ]
  },
  {
   "cell_type": "code",
   "execution_count": null,
   "metadata": {
    "collapsed": false
   },
   "outputs": [],
   "source": [
    "type(df.iloc[0].loc[\"replay_capacity\"])"
   ]
  },
  {
   "cell_type": "code",
   "execution_count": 16,
   "metadata": {
    "collapsed": true
   },
   "outputs": [],
   "source": [
    "df.to_msgpack(path_or_buf=\"hyperparameter_df\")"
   ]
  },
  {
   "cell_type": "code",
   "execution_count": 17,
   "metadata": {
    "collapsed": false
   },
   "outputs": [],
   "source": [
    "df2=pd.read_msgpack(path_or_buf=\"hyperparameter_df\")"
   ]
  },
  {
   "cell_type": "code",
   "execution_count": null,
   "metadata": {
    "collapsed": false
   },
   "outputs": [],
   "source": [
    "[list(x) for x in df2.iloc[0].loc[\"seed_braids\"]]"
   ]
  },
  {
   "cell_type": "code",
   "execution_count": 21,
   "metadata": {
    "collapsed": false
   },
   "outputs": [
    {
     "data": {
      "text/plain": [
       "0     0.07\n",
       "1     0.07\n",
       "2     0.07\n",
       "3     0.07\n",
       "4     0.07\n",
       "5     0.07\n",
       "6     0.07\n",
       "7     0.07\n",
       "8     0.07\n",
       "9     0.07\n",
       "10    0.07\n",
       "11    0.07\n",
       "12    0.07\n",
       "13    0.07\n",
       "14    0.07\n",
       "15    0.07\n",
       "16    0.07\n",
       "17    0.07\n",
       "18    0.09\n",
       "19    0.09\n",
       "20    0.09\n",
       "21    0.09\n",
       "22    0.09\n",
       "23    0.09\n",
       "24    0.09\n",
       "25    0.09\n",
       "26    0.09\n",
       "27    0.09\n",
       "28    0.09\n",
       "29    0.09\n",
       "      ... \n",
       "42    0.10\n",
       "43    0.10\n",
       "44    0.10\n",
       "45    0.10\n",
       "46    0.10\n",
       "47    0.10\n",
       "48    0.10\n",
       "49    0.10\n",
       "50    0.10\n",
       "51    0.10\n",
       "52    0.10\n",
       "53    0.10\n",
       "54    0.15\n",
       "55    0.15\n",
       "56    0.15\n",
       "57    0.15\n",
       "58    0.15\n",
       "59    0.15\n",
       "60    0.15\n",
       "61    0.15\n",
       "62    0.15\n",
       "63    0.15\n",
       "64    0.15\n",
       "65    0.15\n",
       "66    0.15\n",
       "67    0.15\n",
       "68    0.15\n",
       "69    0.15\n",
       "70    0.15\n",
       "71    0.15\n",
       "Name: move_penalty, dtype: float64"
      ]
     },
     "execution_count": 21,
     "metadata": {},
     "output_type": "execute_result"
    }
   ],
   "source": [
    "df2[\"move_penalty\"]"
   ]
  }
 ],
 "metadata": {
  "kernelspec": {
   "display_name": "Python 3",
   "language": "python",
   "name": "python3"
  },
  "language_info": {
   "codemirror_mode": {
    "name": "ipython",
    "version": 3
   },
   "file_extension": ".py",
   "mimetype": "text/x-python",
   "name": "python",
   "nbconvert_exporter": "python",
   "pygments_lexer": "ipython3",
   "version": "3.6.0"
  }
 },
 "nbformat": 4,
 "nbformat_minor": 2
}
