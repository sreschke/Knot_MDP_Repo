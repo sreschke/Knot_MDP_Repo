{
 "cells": [
  {
   "cell_type": "code",
   "execution_count": 20,
   "metadata": {
    "collapsed": true
   },
   "outputs": [],
   "source": [
    "import pandas as pd\n",
    "import numpy as np"
   ]
  },
  {
   "cell_type": "code",
   "execution_count": 59,
   "metadata": {
    "collapsed": false
   },
   "outputs": [],
   "source": [
    "load_stuff=False\n",
    "\n",
    "replay_capacity=2**20 #needs to be a power of 2 for PERB implementation\n",
    "batch_size=64\n",
    "start_alpha=0.6 #see section B.2.2 (pg. 14 table 3) in paper: https://arxiv.org/pdf/1511.05952.pdf\n",
    "replay_epslion=0.01 #introduced on page 4 in paper: https://arxiv.org/pdf/1511.05952.pdf\n",
    "beta=0.4 #needs to satisfy 0<=beta<=1; annealed linearly to 1; see page 5 of paper: https://arxiv.org/pdf/1511.05952.pdf\n",
    "\n",
    "\n",
    "seed_braids=[[1, 1, 1],\n",
    "             [1, -1, 1, 1, 1],\n",
    "             [1, -2, 1, -2],\n",
    "             [1, 1, 1, 2, -1, 2],\n",
    "             [1, 1, -2, 1, -2, -2],\n",
    "             [1, 1, 1, -2, 1, -2]]\n",
    "start_states_capacity=1000000\n",
    "max_braid_index=6\n",
    "max_braid_length=10\n",
    "\n",
    "uniform=True\n",
    "move_penalties=[0.03, 0.05, 0.1]\n",
    "seed_probs=[0.1, 0.5, 1]\n",
    "\n",
    "#try longer networks\n",
    "#Double Dueling DQN\n",
    "output_size=13 #should be the number of actions the agent can take in the MDP\n",
    "architectures_list = [{'Hidden': (512, 512, 512), 'Value': (512, 1),'Advantage': (512, 13)},\n",
    "                      {'Hidden': (1024, 1024, 1024), 'Value': (1024, 1),'Advantage': (1024, 13)}]\n",
    "                      \n",
    "\n",
    "transfer_rate=2000\n",
    "gamma=0.99\n",
    "learning_rates=[0.000000001]\n",
    "\n",
    "#Training\n",
    "euler_char_reset=-8 #algorithm will initialize state if any eulerchar falls below euler_char_reset\n",
    "max_actions_length=40 #initialize_state() is called if an episode takes more actions than max_actions_length\n",
    "\n",
    "#epsilon parameters to linearly decrease epsilon from start_epsilon to final_epsilon over\n",
    "#num_decrease_epochs. If a model is loaded (i.e. load_stuff=True), epsilon wil be the\n",
    "#final_epsilon and will not change.\n",
    "start_epsilon=1\n",
    "final_epsilon=0.1\n",
    "num_decrease_epochs=250000\n",
    "\n",
    "store_rate=10000 #how often (in epochs) to store values for matplotlib lists\n",
    "report_policy_rate=10000\n",
    "num_epochs=5000000\n",
    "moves_per_epoch=4"
   ]
  },
  {
   "cell_type": "code",
   "execution_count": 60,
   "metadata": {
    "collapsed": false
   },
   "outputs": [],
   "source": [
    "columns=[\"load_stuff\", \"load_job_name\", \"save_job_name\", \"replay_capacity\", \"batch_size\", \"start_alpha\", \"replay_epsilon\",\n",
    "         \"start_beta\", \"seed_braids\", \"start_states_capacity\", \"max_braid_index\", \"max_braid_length\", \"uniform\", \"move_penalty\", \n",
    "         \"seed_prob\", \"output_size\", \"architextures\", \"transfer_rate\", \"gamma\", \"learning_rate\", \"euler_char_reset\", \n",
    "         \"max_actions_length\", \"start_epsilon\", \"final_epsilon\", \"num_decrease_epochs\", \"store_rate\", \"report_policy_rate\", \n",
    "         \"num_epochs\", \"moves_per_epoch\"]\n",
    "load_stuff=False\n",
    "job_name=\"SliceEnv_try_\"\n",
    "i=0\n",
    "df = pd.DataFrame(columns=columns)\n",
    "for move_penalty in move_penalties:\n",
    "    for seed_prob in seed_probs:\n",
    "        for architextures in architectures_list:\n",
    "            for learning_rate in learning_rates:\n",
    "                vals=[load_stuff,\n",
    "                      job_name+str(i),\n",
    "                      job_name+str(i),\n",
    "                      replay_capacity,\n",
    "                      batch_size,\n",
    "                      start_alpha,\n",
    "                      replay_epslion,\n",
    "                      beta,\n",
    "                      seed_braids,\n",
    "                      start_states_capacity,\n",
    "                      max_braid_index,\n",
    "                      max_braid_length,\n",
    "                      uniform,\n",
    "                      move_penalty,\n",
    "                      seed_prob,\n",
    "                      output_size,\n",
    "                      architextures,\n",
    "                      transfer_rate,\n",
    "                      gamma,\n",
    "                      learning_rate,\n",
    "                      euler_char_reset,\n",
    "                      max_actions_length,\n",
    "                      start_epsilon,\n",
    "                      final_epsilon,\n",
    "                      num_decrease_epochs,\n",
    "                      store_rate,\n",
    "                      report_policy_rate,\n",
    "                      num_epochs,\n",
    "                      moves_per_epoch]\n",
    "                row=dict(zip(columns, vals))\n",
    "                df=df.append(row, ignore_index=True)\n",
    "                i+=1                   \n"
   ]
  },
  {
   "cell_type": "code",
   "execution_count": 61,
   "metadata": {
    "collapsed": true
   },
   "outputs": [],
   "source": [
    "df.to_msgpack(path_or_buf=\"hyperparameter_df\")"
   ]
  },
  {
   "cell_type": "code",
   "execution_count": 62,
   "metadata": {
    "collapsed": false
   },
   "outputs": [],
   "source": [
    "df2=pd.read_msgpack(path_or_buf=\"hyperparameter_df\")"
   ]
  },
  {
   "cell_type": "code",
   "execution_count": 63,
   "metadata": {
    "collapsed": false
   },
   "outputs": [
    {
     "data": {
      "text/plain": [
       "18"
      ]
     },
     "execution_count": 63,
     "metadata": {},
     "output_type": "execute_result"
    }
   ],
   "source": [
    "len(df2)"
   ]
  }
 ],
 "metadata": {
  "kernelspec": {
   "display_name": "Python 3",
   "language": "python",
   "name": "python3"
  }
 },
 "nbformat": 4,
 "nbformat_minor": 2
}
