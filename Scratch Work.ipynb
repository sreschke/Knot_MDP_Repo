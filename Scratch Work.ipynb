{
 "cells": [
  {
   "cell_type": "code",
   "execution_count": 1,
   "metadata": {
    "collapsed": false
   },
   "outputs": [],
   "source": [
    "from SliceEnvironment import SliceEnv as SE\n",
    "from Start_States_Buffer import Start_States_Buffer as SSB\n",
    "from Start_States_Buffer2 import Start_States_Buffer as SSB2\n",
    "import timeit\n",
    "import numpy as np"
   ]
  },
  {
   "cell_type": "code",
   "execution_count": 23,
   "metadata": {
    "collapsed": false
   },
   "outputs": [
    {
     "name": "stdout",
     "output_type": "stream",
     "text": [
      "Braid word:\t\t [ 1  1  1  2 -1  2]\n",
      "Component list:\t\t [1 1 1 2 3 4]\n",
      "Euler characteristics:\t {1: 0, 2: 1, 3: 1, 4: 1}\n",
      "Score:\t\t\t 0\n",
      "Cursor:\t\t\t [0 1]\n",
      "Is Terminal:\t\t False\n",
      "  ↓\n",
      " | | | | | | \n",
      "→ /  | | | | \n",
      "  /  | | | | \n",
      "  /  | | | | \n",
      " |  /  | | | \n",
      "  \\  | | | | \n",
      " |  /  | | | \n",
      " | | | | | | \n"
     ]
    }
   ],
   "source": [
    "braid=SE(braid_word=[1, 1, 1, 2, -1, 2], max_braid_index=6, max_braid_length=10)\n",
    "braid.info()\n",
    "braid.print_braid()"
   ]
  },
  {
   "cell_type": "code",
   "execution_count": null,
   "metadata": {
    "collapsed": false
   },
   "outputs": [],
   "source": [
    "braid.print_action_sequence([4, 4, 4, 1, 5, 1, 5, 0, 0, 8, 0, 0])"
   ]
  },
  {
   "cell_type": "code",
   "execution_count": null,
   "metadata": {
    "collapsed": false
   },
   "outputs": [],
   "source": [
    "encoded_state=braid.encode_state(display=True)"
   ]
  },
  {
   "cell_type": "code",
   "execution_count": null,
   "metadata": {
    "collapsed": false
   },
   "outputs": [],
   "source": [
    "print(braid.inverse_encode_state(encoded_state))"
   ]
  },
  {
   "cell_type": "code",
   "execution_count": null,
   "metadata": {
    "collapsed": false
   },
   "outputs": [],
   "source": [
    "timeit.timeit(braid.old_encode_state, number=100000)"
   ]
  },
  {
   "cell_type": "code",
   "execution_count": null,
   "metadata": {
    "collapsed": false
   },
   "outputs": [],
   "source": [
    "timeit.timeit(braid.encode_state, number=100000)"
   ]
  },
  {
   "cell_type": "code",
   "execution_count": null,
   "metadata": {
    "collapsed": false
   },
   "outputs": [],
   "source": [
    "seed_braids=[[1],\n",
    "             [1, 1],\n",
    "             [1, -1, 1],\n",
    "             [1, -2, 1, -2],\n",
    "             [1, 1, 1, 1, 1]] \n",
    "start_states_capacity=10000\n",
    "max_braid_index=6\n",
    "max_braid_length=10\n",
    "move_penalty=0.1\n",
    "starts_buffer=SSB(capacity=start_states_capacity,\n",
    "                  max_braid_index=max_braid_index,\n",
    "                  max_braid_length=max_braid_length,\n",
    "                  seed_braids=seed_braids,\n",
    "                  move_penalty=move_penalty)\n",
    "starts_buffer2=SSB2(capacity=start_states_capacity,\n",
    "                  max_braid_index=max_braid_index,\n",
    "                  max_braid_length=max_braid_length,\n",
    "                  seed_braids=seed_braids,\n",
    "                  move_penalty=move_penalty)"
   ]
  },
  {
   "cell_type": "code",
   "execution_count": 3,
   "metadata": {
    "collapsed": false
   },
   "outputs": [],
   "source": [
    "from Prioritized_Experience_Replay_Buffer import Prioritized_Experience_Replay_Buffer as PERB\n",
    "import random"
   ]
  },
  {
   "cell_type": "code",
   "execution_count": 24,
   "metadata": {
    "collapsed": false
   },
   "outputs": [],
   "source": [
    "E=PERB(alpha=0.5, batch_size=3, memory_size=7, epsilon=1/2)"
   ]
  },
  {
   "cell_type": "code",
   "execution_count": 25,
   "metadata": {
    "collapsed": false
   },
   "outputs": [
    {
     "name": "stdout",
     "output_type": "stream",
     "text": [
      "0.24494897427831783\n",
      "0.24494897427831783\n",
      "1.0295630140987\n",
      "1.0295630140987\n",
      "0.24494897427831744\n",
      "0.24494897427831744\n",
      "0.24494897427831744\n"
     ]
    }
   ],
   "source": [
    "epsilon=0.01\n",
    "for i in range(E.memory_size):\n",
    "    action=random.randint(0, 12)\n",
    "    error, _, _ = braid.action(action)\n",
    "    priority = (abs(error)+epsilon)**E.alpha\n",
    "    print(priority)\n",
    "    E.add(data=(braid.encode_state(), 1, -0.05, braid.encode_state(), False), priority=priority)"
   ]
  },
  {
   "cell_type": "code",
   "execution_count": 40,
   "metadata": {
    "collapsed": false
   },
   "outputs": [
    {
     "name": "stdout",
     "output_type": "stream",
     "text": [
      "4.5039636942572 \n",
      "3.0191940931052716 1.4847696011519287 \n",
      "0.9898464007679532 2.0293476923373186 0.9898464007679524 0.4949232003839762 \n",
      "0.4949232003839766 0.4949232003839766 1.0146738461686593 1.0146738461686593 0.4949232003839762 0.4949232003839762 0.4949232003839762 0 \n"
     ]
    }
   ],
   "source": [
    "E.tree.print_tree()"
   ]
  },
  {
   "cell_type": "code",
   "execution_count": 32,
   "metadata": {
    "collapsed": false
   },
   "outputs": [
    {
     "data": {
      "text/plain": [
       "-4"
      ]
     },
     "execution_count": 32,
     "metadata": {},
     "output_type": "execute_result"
    }
   ],
   "source": [
    "-E.tree.tree_level"
   ]
  },
  {
   "cell_type": "code",
   "execution_count": 44,
   "metadata": {
    "collapsed": false
   },
   "outputs": [
    {
     "data": {
      "text/plain": [
       "1.0146738461686593"
      ]
     },
     "execution_count": 44,
     "metadata": {},
     "output_type": "execute_result"
    }
   ],
   "source": [
    "index=E.tree.tree_size-2**(E.tree.tree_level-1)\n",
    "max(E.tree.tree[index:index+E.memory_size])"
   ]
  },
  {
   "cell_type": "code",
   "execution_count": null,
   "metadata": {
    "collapsed": false
   },
   "outputs": [],
   "source": [
    "E.tree.tree[7]"
   ]
  },
  {
   "cell_type": "code",
   "execution_count": null,
   "metadata": {
    "collapsed": false
   },
   "outputs": [],
   "source": [
    "TD_error=np.array([[0.,0.,0,0.,0.,0.,10.163937,0.,0.,0.,0.,0.,0.], [0.,0.,0.,0.,0.,10.163937,0.,0.,0.,0.,0.,0.,0.]])\n",
    "actions=[6, 5]"
   ]
  },
  {
   "cell_type": "code",
   "execution_count": null,
   "metadata": {
    "collapsed": false
   },
   "outputs": [],
   "source": [
    "A=np.array([1, 2, 3, 4, 5, 6, 7, 8, 9, 10])\n",
    "np.reshape(A, (10, 1))"
   ]
  },
  {
   "cell_type": "code",
   "execution_count": null,
   "metadata": {
    "collapsed": false
   },
   "outputs": [],
   "source": [
    "np.tile(np.reshape(A, (10, 1)), 13)"
   ]
  }
 ],
 "metadata": {
  "kernelspec": {
   "display_name": "Python 3",
   "language": "python",
   "name": "python3"
  },
  "language_info": {
   "codemirror_mode": {
    "name": "ipython",
    "version": 3
   },
   "file_extension": ".py",
   "mimetype": "text/x-python",
   "name": "python",
   "nbconvert_exporter": "python",
   "pygments_lexer": "ipython3",
   "version": "3.6.0"
  }
 },
 "nbformat": 4,
 "nbformat_minor": 2
}
