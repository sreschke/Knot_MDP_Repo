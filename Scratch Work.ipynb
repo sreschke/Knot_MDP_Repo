{
 "cells": [
  {
   "cell_type": "code",
   "execution_count": 1,
   "metadata": {
    "collapsed": false
   },
   "outputs": [],
   "source": [
    "from SliceEnvironment import SliceEnv as SE\n",
    "from Start_States_Buffer import Start_States_Buffer as SSB\n",
    "from Start_States_Buffer2 import Start_States_Buffer as SSB2\n",
    "import timeit\n",
    "import numpy as np"
   ]
  },
  {
   "cell_type": "code",
   "execution_count": 2,
   "metadata": {
    "collapsed": false
   },
   "outputs": [
    {
     "name": "stdout",
     "output_type": "stream",
     "text": [
      "Braid word:\t\t [ 1  1  1  2 -1  2]\n",
      "Component list:\t\t [1 1 1 2 3 4]\n",
      "Euler characteristics:\t {1: 0, 2: 1, 3: 1, 4: 1}\n",
      "Score:\t\t\t 0\n",
      "Cursor:\t\t\t [0 1]\n",
      "Is Terminal:\t\t False\n",
      "  ↓\n",
      " | | | | | | \n",
      "→ /  | | | | \n",
      "  /  | | | | \n",
      "  /  | | | | \n",
      " |  /  | | | \n",
      "  \\  | | | | \n",
      " |  /  | | | \n",
      " | | | | | | \n"
     ]
    }
   ],
   "source": [
    "braid=SE(braid_word=[1, 1, 1, 2, -1, 2], max_braid_index=6, max_braid_length=10)\n",
    "braid.info()\n",
    "braid.print_braid()"
   ]
  },
  {
   "cell_type": "code",
   "execution_count": null,
   "metadata": {
    "collapsed": false
   },
   "outputs": [],
   "source": [
    "braid.print_action_sequence([4, 12, 1, 8, 8, 0, 0, 0])"
   ]
  },
  {
   "cell_type": "code",
   "execution_count": null,
   "metadata": {
    "collapsed": false
   },
   "outputs": [],
   "source": [
    "encoded_state=braid.encode_state(display=True)"
   ]
  },
  {
   "cell_type": "code",
   "execution_count": null,
   "metadata": {
    "collapsed": false
   },
   "outputs": [],
   "source": [
    "print(braid.inverse_encode_state(encoded_state))"
   ]
  },
  {
   "cell_type": "code",
   "execution_count": null,
   "metadata": {
    "collapsed": false
   },
   "outputs": [],
   "source": [
    "timeit.timeit(braid.old_encode_state, number=100000)"
   ]
  },
  {
   "cell_type": "code",
   "execution_count": null,
   "metadata": {
    "collapsed": false
   },
   "outputs": [],
   "source": [
    "timeit.timeit(braid.encode_state, number=100000)"
   ]
  },
  {
   "cell_type": "code",
   "execution_count": null,
   "metadata": {
    "collapsed": false
   },
   "outputs": [],
   "source": [
    "seed_braids=[[1],\n",
    "             [1, 1],\n",
    "             [1, -1, 1],\n",
    "             [1, -2, 1, -2],\n",
    "             [1, 1, 1, 1, 1]] \n",
    "start_states_capacity=10000\n",
    "max_braid_index=6\n",
    "max_braid_length=10\n",
    "move_penalty=0.1\n",
    "starts_buffer=SSB(capacity=start_states_capacity,\n",
    "                  max_braid_index=max_braid_index,\n",
    "                  max_braid_length=max_braid_length,\n",
    "                  seed_braids=seed_braids,\n",
    "                  move_penalty=move_penalty)\n",
    "starts_buffer2=SSB2(capacity=start_states_capacity,\n",
    "                  max_braid_index=max_braid_index,\n",
    "                  max_braid_length=max_braid_length,\n",
    "                  seed_braids=seed_braids,\n",
    "                  move_penalty=move_penalty)"
   ]
  },
  {
   "cell_type": "code",
   "execution_count": 3,
   "metadata": {
    "collapsed": false
   },
   "outputs": [],
   "source": [
    "from Prioritized_Experience_Replay_Buffer import Prioritized_Experience_Replay_Buffer as PERB\n",
    "import random"
   ]
  },
  {
   "cell_type": "code",
   "execution_count": 8,
   "metadata": {
    "collapsed": false
   },
   "outputs": [],
   "source": [
    "E=PERB(alpha=0.5, batch_size=3, memory_size=7, epsilon=1/2)"
   ]
  },
  {
   "cell_type": "code",
   "execution_count": 9,
   "metadata": {
    "collapsed": false
   },
   "outputs": [
    {
     "name": "stdout",
     "output_type": "stream",
     "text": [
      "1.0074720839804943\n",
      "0.12247448713915847\n",
      "1.0074720839804943\n",
      "0.12247448713915847\n",
      "0.12247448713915847\n",
      "1.0074720839804943\n",
      "0.12247448713915847\n"
     ]
    }
   ],
   "source": [
    "epsilon=0.01\n",
    "for i in range(E.memory_size):\n",
    "    error, _, _ = braid.action(random.randint(0, 12))\n",
    "    priority = (abs(error)+epsilon)**E.alpha\n",
    "    print(priority)\n",
    "    E.add(data=(braid.encode_state(), 1, -0.05, braid.encode_state(), False), priority=priority)"
   ]
  },
  {
   "cell_type": "code",
   "execution_count": 10,
   "metadata": {
    "collapsed": false
   },
   "outputs": [
    {
     "name": "stdout",
     "output_type": "stream",
     "text": [
      "0.36216163309064886\n",
      "0.36216163309064886\n",
      "0.36216163309064886\n",
      "0.31619006736898964\n",
      "0.31619006736898964\n",
      "0.31619006736898964\n",
      "1.2779889779658686\n",
      "1.2779889779658686\n",
      "1.2779889779658686\n"
     ]
    },
    {
     "data": {
      "text/plain": [
       "([(array([ 0,  0,  0,  0,  0,  1,  0,  0,  0,  0,  0,  0,  0,  0,  0,  0,  1,\n",
       "           0,  0,  0,  0,  0,  0,  0,  0,  0,  0,  1,  0,  0,  0,  0,  0,  0,\n",
       "           0,  0,  0,  0,  0,  1,  0,  0,  0,  0,  0,  0,  0,  0,  1,  0,  0,\n",
       "           0,  0,  0,  0,  0,  0,  0,  0,  0,  0,  1,  0,  0,  0,  0,  0,  0,\n",
       "           0,  1,  0,  0,  0,  0,  0,  0,  0,  0,  0,  0,  0,  0,  0,  1,  0,\n",
       "           0,  0,  0,  0,  0,  0,  0,  0,  0,  0,  1,  0,  0,  0,  0,  0,  0,\n",
       "           0,  0,  0,  0,  1,  0,  0,  0,  1,  0,  0,  0,  0,  0,  0,  1,  0,\n",
       "           0,  0,  0,  0,  0,  1,  0,  0,  0,  0,  0,  0,  0,  1,  0,  0,  0,\n",
       "           0,  0,  0,  0,  1,  0,  0,  0,  0,  0,  0,  0,  1,  0,  0,  0, -1,\n",
       "          -1, -1,  1,  1,  1,  0,  1,  0,  0,  0,  0,  0,  0,  0,  0,  0,  1,\n",
       "           0,  0,  0,  0]),\n",
       "   1,\n",
       "   -0.05,\n",
       "   array([ 0,  0,  0,  0,  0,  1,  0,  0,  0,  0,  0,  0,  0,  0,  0,  0,  1,\n",
       "           0,  0,  0,  0,  0,  0,  0,  0,  0,  0,  1,  0,  0,  0,  0,  0,  0,\n",
       "           0,  0,  0,  0,  0,  1,  0,  0,  0,  0,  0,  0,  0,  0,  1,  0,  0,\n",
       "           0,  0,  0,  0,  0,  0,  0,  0,  0,  0,  1,  0,  0,  0,  0,  0,  0,\n",
       "           0,  1,  0,  0,  0,  0,  0,  0,  0,  0,  0,  0,  0,  0,  0,  1,  0,\n",
       "           0,  0,  0,  0,  0,  0,  0,  0,  0,  0,  1,  0,  0,  0,  0,  0,  0,\n",
       "           0,  0,  0,  0,  1,  0,  0,  0,  1,  0,  0,  0,  0,  0,  0,  1,  0,\n",
       "           0,  0,  0,  0,  0,  1,  0,  0,  0,  0,  0,  0,  0,  1,  0,  0,  0,\n",
       "           0,  0,  0,  0,  1,  0,  0,  0,  0,  0,  0,  0,  1,  0,  0,  0, -1,\n",
       "          -1, -1,  1,  1,  1,  0,  1,  0,  0,  0,  0,  0,  0,  0,  0,  0,  1,\n",
       "           0,  0,  0,  0]),\n",
       "   False),\n",
       "  (array([ 0,  0,  0,  0,  0,  1,  0,  0,  0,  0,  0,  0,  0,  0,  0,  0,  1,\n",
       "           0,  0,  0,  0,  0,  0,  0,  0,  0,  0,  1,  0,  0,  0,  0,  0,  0,\n",
       "           0,  0,  0,  0,  0,  1,  0,  0,  0,  0,  0,  0,  0,  0,  1,  0,  0,\n",
       "           0,  0,  0,  0,  0,  0,  0,  0,  0,  0,  1,  0,  0,  0,  0,  0,  0,\n",
       "           0,  1,  0,  0,  0,  0,  0,  0,  0,  0,  0,  0,  0,  0,  0,  1,  0,\n",
       "           0,  0,  0,  0,  0,  0,  0,  0,  0,  0,  1,  0,  0,  0,  0,  0,  0,\n",
       "           0,  0,  0,  0,  1,  0,  0,  0,  1,  0,  0,  0,  0,  0,  0,  1,  0,\n",
       "           0,  0,  0,  0,  0,  1,  0,  0,  0,  0,  0,  0,  0,  1,  0,  0,  0,\n",
       "           0,  0,  0,  0,  1,  0,  0,  0,  0,  0,  0,  0,  1,  0,  0,  0, -1,\n",
       "          -1, -1,  1,  1,  1,  0,  0,  1,  0,  0,  0,  0,  0,  0,  0,  0,  1,\n",
       "           0,  0,  0,  0]),\n",
       "   1,\n",
       "   -0.05,\n",
       "   array([ 0,  0,  0,  0,  0,  1,  0,  0,  0,  0,  0,  0,  0,  0,  0,  0,  1,\n",
       "           0,  0,  0,  0,  0,  0,  0,  0,  0,  0,  1,  0,  0,  0,  0,  0,  0,\n",
       "           0,  0,  0,  0,  0,  1,  0,  0,  0,  0,  0,  0,  0,  0,  1,  0,  0,\n",
       "           0,  0,  0,  0,  0,  0,  0,  0,  0,  0,  1,  0,  0,  0,  0,  0,  0,\n",
       "           0,  1,  0,  0,  0,  0,  0,  0,  0,  0,  0,  0,  0,  0,  0,  1,  0,\n",
       "           0,  0,  0,  0,  0,  0,  0,  0,  0,  0,  1,  0,  0,  0,  0,  0,  0,\n",
       "           0,  0,  0,  0,  1,  0,  0,  0,  1,  0,  0,  0,  0,  0,  0,  1,  0,\n",
       "           0,  0,  0,  0,  0,  1,  0,  0,  0,  0,  0,  0,  0,  1,  0,  0,  0,\n",
       "           0,  0,  0,  0,  1,  0,  0,  0,  0,  0,  0,  0,  1,  0,  0,  0, -1,\n",
       "          -1, -1,  1,  1,  1,  0,  0,  1,  0,  0,  0,  0,  0,  0,  0,  0,  1,\n",
       "           0,  0,  0,  0]),\n",
       "   False),\n",
       "  (array([ 0,  0,  0,  0,  0,  0,  1,  0,  0,  0,  0,  0,  0,  0,  0,  1,  0,\n",
       "           0,  0,  0,  0,  0,  0,  0,  0,  0,  1,  0,  0,  0,  0,  0,  0,  0,\n",
       "           0,  0,  0,  0,  0,  1,  0,  0,  0,  0,  0,  0,  0,  0,  1,  0,  0,\n",
       "           0,  0,  0,  0,  0,  0,  0,  0,  0,  0,  1,  0,  0,  0,  0,  0,  0,\n",
       "           0,  1,  0,  0,  0,  0,  0,  0,  0,  0,  0,  0,  0,  0,  0,  1,  0,\n",
       "           0,  0,  0,  0,  0,  0,  0,  0,  0,  0,  1,  0,  0,  0,  0,  0,  0,\n",
       "           0,  0,  0,  0,  1,  0,  0,  0,  1,  0,  0,  0,  0,  0,  0,  1,  0,\n",
       "           0,  0,  0,  0,  0,  1,  0,  0,  0,  0,  0,  0,  0,  1,  0,  0,  0,\n",
       "           0,  0,  0,  0,  1,  0,  0,  0,  0,  0,  0,  0,  1,  0,  0,  0, -2,\n",
       "          -2, -2,  1,  1,  1,  0,  0,  1,  0,  0,  0,  0,  0,  0,  0,  0,  1,\n",
       "           0,  0,  0,  0]),\n",
       "   1,\n",
       "   -0.05,\n",
       "   array([ 0,  0,  0,  0,  0,  0,  1,  0,  0,  0,  0,  0,  0,  0,  0,  1,  0,\n",
       "           0,  0,  0,  0,  0,  0,  0,  0,  0,  1,  0,  0,  0,  0,  0,  0,  0,\n",
       "           0,  0,  0,  0,  0,  1,  0,  0,  0,  0,  0,  0,  0,  0,  1,  0,  0,\n",
       "           0,  0,  0,  0,  0,  0,  0,  0,  0,  0,  1,  0,  0,  0,  0,  0,  0,\n",
       "           0,  1,  0,  0,  0,  0,  0,  0,  0,  0,  0,  0,  0,  0,  0,  1,  0,\n",
       "           0,  0,  0,  0,  0,  0,  0,  0,  0,  0,  1,  0,  0,  0,  0,  0,  0,\n",
       "           0,  0,  0,  0,  1,  0,  0,  0,  1,  0,  0,  0,  0,  0,  0,  1,  0,\n",
       "           0,  0,  0,  0,  0,  1,  0,  0,  0,  0,  0,  0,  0,  1,  0,  0,  0,\n",
       "           0,  0,  0,  0,  1,  0,  0,  0,  0,  0,  0,  0,  1,  0,  0,  0, -2,\n",
       "          -2, -2,  1,  1,  1,  0,  0,  1,  0,  0,  0,  0,  0,  0,  0,  0,  1,\n",
       "           0,  0,  0,  0]),\n",
       "   False)],\n",
       " [0.5904772260635245, 1.0, 1.0],\n",
       " [0, 1, 3])"
      ]
     },
     "execution_count": 10,
     "metadata": {},
     "output_type": "execute_result"
    }
   ],
   "source": [
    "E.get_batch(beta=0.5)"
   ]
  },
  {
   "cell_type": "code",
   "execution_count": 13,
   "metadata": {
    "collapsed": false
   },
   "outputs": [
    {
     "name": "stdout",
     "output_type": "stream",
     "text": [
      "4.892402434859984 \n",
      "3.1887462436057765 1.7036561912542083 \n",
      "1.5934399820536131 1.5953062615521634 1.3536926400961506 0.3499635511580577 \n",
      "1.0018628094395425 0.5915771726140705 1.003729088938093 0.5915771726140705 0.3499635511580577 1.003729088938093 0.3499635511580577 0 \n"
     ]
    }
   ],
   "source": [
    "E.tree.print_tree()"
   ]
  },
  {
   "cell_type": "code",
   "execution_count": null,
   "metadata": {
    "collapsed": false
   },
   "outputs": [],
   "source": [
    "A=np.array([761.8782 , 762.30756, 761.8782 , 761.8782 , 761.8782 , 762.0653 ,\n",
    "       761.8782 , 761.8782 , 762.2461 , 761.8782 , 761.8782 , 761.93396,\n",
    "       761.8782 ])"
   ]
  },
  {
   "cell_type": "code",
   "execution_count": 15,
   "metadata": {
    "collapsed": false
   },
   "outputs": [
    {
     "data": {
      "text/plain": [
       "1.0018628094395425"
      ]
     },
     "execution_count": 15,
     "metadata": {},
     "output_type": "execute_result"
    }
   ],
   "source": [
    "E.tree.tree[7]"
   ]
  },
  {
   "cell_type": "code",
   "execution_count": 19,
   "metadata": {
    "collapsed": false
   },
   "outputs": [],
   "source": [
    "TD_error=np.array([[0.,0.,0,0.,0.,0.,10.163937,0.,0.,0.,0.,0.,0.], [0.,0.,0.,0.,0.,10.163937,0.,0.,0.,0.,0.,0.,0.]])\n",
    "actions=[6, 5]"
   ]
  },
  {
   "cell_type": "code",
   "execution_count": 22,
   "metadata": {
    "collapsed": false
   },
   "outputs": [
    {
     "data": {
      "text/plain": [
       "array([10.163937, 10.163937])"
      ]
     },
     "execution_count": 22,
     "metadata": {},
     "output_type": "execute_result"
    }
   ],
   "source": [
    "TD_error[range(len(TD_error)), actions]"
   ]
  }
 ],
 "metadata": {
  "kernelspec": {
   "display_name": "Python 3",
   "language": "python",
   "name": "python3"
  },
  "language_info": {
   "codemirror_mode": {
    "name": "ipython",
    "version": 3
   },
   "file_extension": ".py",
   "mimetype": "text/x-python",
   "name": "python",
   "nbconvert_exporter": "python",
   "pygments_lexer": "ipython3",
   "version": "3.6.0"
  }
 },
 "nbformat": 4,
 "nbformat_minor": 2
}
