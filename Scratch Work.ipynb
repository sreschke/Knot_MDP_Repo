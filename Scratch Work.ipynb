{
 "cells": [
  {
   "cell_type": "code",
   "execution_count": 2,
   "metadata": {
    "collapsed": false
   },
   "outputs": [],
   "source": [
    "from SliceEnvironment import SliceEnv as SE\n",
    "from Start_States_Buffer import Start_States_Buffer as SSB\n",
    "from Start_States_Buffer2 import Start_States_Buffer as SSB2\n",
    "import timeit\n",
    "import numpy as np"
   ]
  },
  {
   "cell_type": "code",
   "execution_count": 28,
   "metadata": {
    "collapsed": false
   },
   "outputs": [
    {
     "name": "stdout",
     "output_type": "stream",
     "text": [
      "Braid word:\t\t [-1  2 -1  2 -3  2 -3]\n",
      "Component list:\t\t [1 1 1 1 2 3]\n",
      "Euler characteristics:\t {1: 0, 2: 1, 3: 1}\n",
      "Score:\t\t\t 0\n",
      "Cursor:\t\t\t [0 1]\n",
      "Is Terminal:\t\t False\n",
      "  ↓\n",
      " | | | | | | \n",
      "→ \\  | | | | \n",
      " |  /  | | | \n",
      "  \\  | | | | \n",
      " |  /  | | | \n",
      " | |  \\  | | \n",
      " |  /  | | | \n",
      " | |  \\  | | \n",
      " | | | | | | \n"
     ]
    }
   ],
   "source": [
    "braid=SE(braid_word=[-1, 2, -1, 2, -3, 2, -3], max_braid_index=6, max_braid_length=10)\n",
    "braid.info()\n",
    "braid.print_braid()"
   ]
  },
  {
   "cell_type": "code",
   "execution_count": 27,
   "metadata": {
    "collapsed": false
   },
   "outputs": [
    {
     "name": "stdout",
     "output_type": "stream",
     "text": [
      "Braid word:\t\t [ 1  1  1 -2  1 -2]\n",
      "Component list:\t\t [1 1 1 2 3 4]\n",
      "Euler characteristics:\t {1: 0, 2: 1, 3: 1, 4: 1}\n",
      "Score:\t\t\t 0\n",
      "Cursor:\t\t\t [0 1]\n",
      "Is Terminal:\t\t False\n",
      "  ↓\n",
      " | | | | | | \n",
      "→ /  | | | | \n",
      "  /  | | | | \n",
      "  /  | | | | \n",
      " |  \\  | | | \n",
      "  /  | | | | \n",
      " |  \\  | | | \n",
      " | | | | | | \n",
      "============================================================\n",
      "Action 0: Remove Crosing\n",
      "Reward: -1.005\n",
      "============================================================\n",
      "Braid word:\t\t [ 1  1 -2  1 -2]\n",
      "Component list:\t\t [1 1 1 2 3 4]\n",
      "Euler characteristics:\t {1: -1, 2: 1, 3: 1, 4: 1}\n",
      "Score:\t\t\t -1\n",
      "Cursor:\t\t\t [0 1]\n",
      "Is Terminal:\t\t False\n",
      "  ↓\n",
      " | | | | | | \n",
      "→ /  | | | | \n",
      "  /  | | | | \n",
      " |  \\  | | | \n",
      "  /  | | | | \n",
      " |  \\  | | | \n",
      " | | | | | | \n",
      "============================================================\n",
      "Action 1: Move Down\n",
      "Reward: -0.004999999999999893\n",
      "============================================================\n",
      "Braid word:\t\t [ 1  1 -2  1 -2]\n",
      "Component list:\t\t [1 1 1 2 3 4]\n",
      "Euler characteristics:\t {1: -1, 2: 1, 3: 1, 4: 1}\n",
      "Score:\t\t\t -1\n",
      "Cursor:\t\t\t [1 1]\n",
      "Is Terminal:\t\t False\n",
      "  ↓\n",
      " | | | | | | \n",
      "  /  | | | | \n",
      "→ /  | | | | \n",
      " |  \\  | | | \n",
      "  /  | | | | \n",
      " |  \\  | | | \n",
      " | | | | | | \n",
      "============================================================\n",
      "Action 4: Move Right\n",
      "Reward: -0.004999999999999893\n",
      "============================================================\n",
      "Braid word:\t\t [ 1  1 -2  1 -2]\n",
      "Component list:\t\t [1 1 1 2 3 4]\n",
      "Euler characteristics:\t {1: -1, 2: 1, 3: 1, 4: 1}\n",
      "Score:\t\t\t -1\n",
      "Cursor:\t\t\t [1 2]\n",
      "Is Terminal:\t\t False\n",
      "    ↓\n",
      " | | | | | | \n",
      "  /  | | | | \n",
      "→ /  | | | | \n",
      " |  \\  | | | \n",
      "  /  | | | | \n",
      " |  \\  | | | \n",
      " | | | | | | \n",
      "============================================================\n",
      "Action 11: Add Positive crossing\n",
      "Reward: -1.005\n",
      "============================================================\n",
      "Braid word:\t\t [ 1  2  1 -2  1 -2]\n",
      "Component list:\t\t [1 1 1 2 3 4]\n",
      "Euler characteristics:\t {1: -2, 2: 1, 3: 1, 4: 1}\n",
      "Score:\t\t\t -2\n",
      "Cursor:\t\t\t [1 2]\n",
      "Is Terminal:\t\t False\n",
      "    ↓\n",
      " | | | | | | \n",
      "  /  | | | | \n",
      "→|  /  | | | \n",
      "  /  | | | | \n",
      " |  \\  | | | \n",
      "  /  | | | | \n",
      " |  \\  | | | \n",
      " | | | | | | \n",
      "============================================================\n",
      "Action 1: Move Down\n",
      "Reward: -0.004999999999999893\n",
      "============================================================\n",
      "Braid word:\t\t [ 1  2  1 -2  1 -2]\n",
      "Component list:\t\t [1 1 1 2 3 4]\n",
      "Euler characteristics:\t {1: -2, 2: 1, 3: 1, 4: 1}\n",
      "Score:\t\t\t -2\n",
      "Cursor:\t\t\t [2 2]\n",
      "Is Terminal:\t\t False\n",
      "    ↓\n",
      " | | | | | | \n",
      "  /  | | | | \n",
      " |  /  | | | \n",
      "→ /  | | | | \n",
      " |  \\  | | | \n",
      "  /  | | | | \n",
      " |  \\  | | | \n",
      " | | | | | | \n",
      "============================================================\n",
      "Action 9: r3\n",
      "Reward: -0.004999999999999893\n",
      "============================================================\n",
      "Braid word:\t\t [ 2 -1  1 -2  1  1]\n",
      "Component list:\t\t [1 1 1 2 3 4]\n",
      "Euler characteristics:\t {1: -2, 2: 1, 3: 1, 4: 1}\n",
      "Score:\t\t\t -2\n",
      "Cursor:\t\t\t [2 2]\n",
      "Is Terminal:\t\t False\n",
      "    ↓\n",
      " | | | | | | \n",
      " |  /  | | | \n",
      "  \\  | | | | \n",
      "→ /  | | | | \n",
      " |  \\  | | | \n",
      "  /  | | | | \n",
      "  /  | | | | \n",
      " | | | | | | \n",
      "============================================================\n",
      "Action 8: Remove r2\n",
      "Reward: -0.004999999999999893\n",
      "============================================================\n",
      "Braid word:\t\t [ 2 -2  1  1]\n",
      "Component list:\t\t [1 1 1 2 3 4]\n",
      "Euler characteristics:\t {1: -2, 2: 1, 3: 1, 4: 1}\n",
      "Score:\t\t\t -2\n",
      "Cursor:\t\t\t [2 2]\n",
      "Is Terminal:\t\t False\n",
      "    ↓\n",
      " | | | | | | \n",
      " |  /  | | | \n",
      " |  \\  | | | \n",
      "→ /  | | | | \n",
      "  /  | | | | \n",
      " | | | | | | \n",
      "============================================================\n",
      "Action 0: Remove Crosing\n",
      "Reward: -1.005\n",
      "============================================================\n",
      "Braid word:\t\t [ 2 -2  1]\n",
      "Component list:\t\t [1 1 1 2 3 4]\n",
      "Euler characteristics:\t {1: -3, 2: 1, 3: 1, 4: 1}\n",
      "Score:\t\t\t -3\n",
      "Cursor:\t\t\t [2 2]\n",
      "Is Terminal:\t\t False\n",
      "    ↓\n",
      " | | | | | | \n",
      " |  /  | | | \n",
      " |  \\  | | | \n",
      "→ /  | | | | \n",
      " | | | | | | \n",
      "============================================================\n",
      "Action 8: Remove r2\n",
      "Reward: 0.9950000000000001\n",
      "============================================================\n",
      "Braid word:\t\t [1]\n",
      "Component list:\t\t [1 1 2 3 4 5]\n",
      "Euler characteristics:\t {1: -2, 2: 1, 3: 1, 4: 1, 5: 1}\n",
      "Score:\t\t\t -2\n",
      "Cursor:\t\t\t [1 2]\n",
      "Is Terminal:\t\t False\n",
      "    ↓\n",
      " | | | | | | \n",
      "  /  | | | | \n",
      "→| | | | | | \n",
      "============================================================\n",
      "Action 0: Remove Crosing\n",
      "Reward: 0.9950000000000001\n",
      "============================================================\n",
      "Braid word:\t\t []\n",
      "Component list:\t\t [2 3 4 5 6 7]\n",
      "Euler characteristics:\t {1: -1, 2: 1, 3: 1, 4: 1, 5: 1, 6: 1, 7: 1}\n",
      "Score:\t\t\t -1\n",
      "Cursor:\t\t\t [0 2]\n",
      "Is Terminal:\t\t True\n",
      "    ↓\n",
      " | | | | | | \n",
      "→| | | | | | \n"
     ]
    }
   ],
   "source": [
    "braid.print_action_sequence([0, 1, 4, 11, 1, 9, 8, 0, 8, 0])"
   ]
  },
  {
   "cell_type": "code",
   "execution_count": null,
   "metadata": {
    "collapsed": false
   },
   "outputs": [],
   "source": [
    "encoded_state=braid.encode_state(display=True)"
   ]
  },
  {
   "cell_type": "code",
   "execution_count": null,
   "metadata": {
    "collapsed": false
   },
   "outputs": [],
   "source": [
    "print(braid.inverse_encode_state(encoded_state))"
   ]
  },
  {
   "cell_type": "code",
   "execution_count": null,
   "metadata": {
    "collapsed": false
   },
   "outputs": [],
   "source": [
    "timeit.timeit(braid.old_encode_state, number=100000)"
   ]
  },
  {
   "cell_type": "code",
   "execution_count": null,
   "metadata": {
    "collapsed": false
   },
   "outputs": [],
   "source": [
    "timeit.timeit(braid.encode_state, number=100000)"
   ]
  },
  {
   "cell_type": "code",
   "execution_count": null,
   "metadata": {
    "collapsed": false
   },
   "outputs": [],
   "source": [
    "seed_braids=[[1],\n",
    "             [1, 1],\n",
    "             [1, -1, 1],\n",
    "             [1, -2, 1, -2],\n",
    "             [1, 1, 1, 1, 1]] \n",
    "start_states_capacity=10000\n",
    "max_braid_index=6\n",
    "max_braid_length=10\n",
    "move_penalty=0.1\n",
    "starts_buffer=SSB(capacity=start_states_capacity,\n",
    "                  max_braid_index=max_braid_index,\n",
    "                  max_braid_length=max_braid_length,\n",
    "                  seed_braids=seed_braids,\n",
    "                  move_penalty=move_penalty)\n",
    "starts_buffer2=SSB2(capacity=start_states_capacity,\n",
    "                  max_braid_index=max_braid_index,\n",
    "                  max_braid_length=max_braid_length,\n",
    "                  seed_braids=seed_braids,\n",
    "                  move_penalty=move_penalty)"
   ]
  },
  {
   "cell_type": "code",
   "execution_count": null,
   "metadata": {
    "collapsed": false
   },
   "outputs": [],
   "source": [
    "from Prioritized_Experience_Replay_Buffer import Prioritized_Experience_Replay_Buffer as PERB\n",
    "import random"
   ]
  },
  {
   "cell_type": "code",
   "execution_count": null,
   "metadata": {
    "collapsed": false
   },
   "outputs": [],
   "source": [
    "E=PERB(alpha=0.5, batch_size=3, memory_size=7, epsilon=1/2)"
   ]
  },
  {
   "cell_type": "code",
   "execution_count": null,
   "metadata": {
    "collapsed": false
   },
   "outputs": [],
   "source": [
    "epsilon=0.01\n",
    "for i in range(E.memory_size):\n",
    "    error, _, _ = braid.action(random.randint(0, 12))\n",
    "    priority = (abs(error)+epsilon)**E.alpha\n",
    "    print(priority)\n",
    "    E.add(data=(braid.encode_state(), 1, -0.05, braid.encode_state(), False), priority=priority)"
   ]
  },
  {
   "cell_type": "code",
   "execution_count": null,
   "metadata": {
    "collapsed": false
   },
   "outputs": [],
   "source": [
    "E.get_batch(beta=0.5)"
   ]
  },
  {
   "cell_type": "code",
   "execution_count": null,
   "metadata": {
    "collapsed": false
   },
   "outputs": [],
   "source": [
    "E.tree.print_tree()"
   ]
  },
  {
   "cell_type": "code",
   "execution_count": null,
   "metadata": {
    "collapsed": false
   },
   "outputs": [],
   "source": [
    "A=np.array([761.8782 , 762.30756, 761.8782 , 761.8782 , 761.8782 , 762.0653 ,\n",
    "       761.8782 , 761.8782 , 762.2461 , 761.8782 , 761.8782 , 761.93396,\n",
    "       761.8782 ])"
   ]
  },
  {
   "cell_type": "code",
   "execution_count": null,
   "metadata": {
    "collapsed": false
   },
   "outputs": [],
   "source": [
    "E.tree.tree[7]"
   ]
  },
  {
   "cell_type": "code",
   "execution_count": null,
   "metadata": {
    "collapsed": false
   },
   "outputs": [],
   "source": [
    "TD_error=np.array([[0.,0.,0,0.,0.,0.,10.163937,0.,0.,0.,0.,0.,0.], [0.,0.,0.,0.,0.,10.163937,0.,0.,0.,0.,0.,0.,0.]])\n",
    "actions=[6, 5]"
   ]
  },
  {
   "cell_type": "code",
   "execution_count": null,
   "metadata": {
    "collapsed": false
   },
   "outputs": [],
   "source": [
    "TD_error[range(len(TD_error)), actions]"
   ]
  }
 ],
 "metadata": {
  "kernelspec": {
   "display_name": "Python 3",
   "language": "python",
   "name": "python3"
  }
 },
 "nbformat": 4,
 "nbformat_minor": 2
}
