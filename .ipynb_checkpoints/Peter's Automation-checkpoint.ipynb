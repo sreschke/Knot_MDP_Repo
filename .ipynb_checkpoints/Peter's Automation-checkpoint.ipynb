{
 "cells": [
  {
   "cell_type": "code",
   "execution_count": 1,
   "metadata": {
    "collapsed": false
   },
   "outputs": [],
   "source": [
    "#import modules\n",
    "import os\n",
    "import win32api, win32con\n",
    "import time\n",
    "import pyautogui\n",
    "pyautogui.PAUSE = 1"
   ]
  },
  {
   "cell_type": "code",
   "execution_count": 13,
   "metadata": {
    "collapsed": false
   },
   "outputs": [],
   "source": [
    "path=r\"C:\\Users\\Spencer\\AppData\\Roaming\\Microsoft\\Windows\\Start Menu\\Programs\\Accessories\\NotePad\"\n",
    "os.startfile(path)\n",
    "time.sleep(1)\n",
    "pyautogui.click(100, 100)\n",
    "pyautogui.typewrite(\"Hello world!\")\n",
    "pyautogui.typewrite([\"return\", \"return\", \"up\", \"up\", \"down\"])"
   ]
  },
  {
   "cell_type": "raw",
   "metadata": {},
   "source": [
    "faces_list=[\"faceA\", \"faceB\", \"faceC\"]\n",
    "hair_list=[\"hairA\", \"hairB\", \"hairC\", \"hairdD\"]\n",
    "\n",
    "#Construct file names using for loops\n",
    "file_names=[] #empty list\n",
    "for face in faces_list:\n",
    "    for hair in hair_list:\n",
    "        file_names.append(face + \"_\" + hair + \".jpg\") \n",
    "print(file_names)\n",
    "\n",
    "#Compact method using list comprehenstions\n",
    "file_names=[face + \"_\" + hair + \".jpg\" for face in faces_list for hair in hair_list]\n",
    "print()\n",
    "print(file_names)"
   ]
  },
  {
   "cell_type": "code",
   "execution_count": null,
   "metadata": {
    "collapsed": false
   },
   "outputs": [],
   "source": [
    "#You can access individual file names by indexing into the list\n",
    "index=0 #change to access other file names\n",
    "file_names[index]"
   ]
  },
  {
   "cell_type": "code",
   "execution_count": null,
   "metadata": {
    "collapsed": false
   },
   "outputs": [],
   "source": [
    "hair_types=[\"hairA\", \"hairB\", \"hairC\"]\n",
    "num_presses=range(len(hair_types))\n",
    "hair_dict=dict(zip(hair_types, num_presses)) \n",
    "print(hair_dict)\n",
    "hair_dict[\"hairA\"] #access num_presses for \"hairA\""
   ]
  },
  {
   "cell_type": "code",
   "execution_count": null,
   "metadata": {
    "collapsed": true
   },
   "outputs": [],
   "source": [
    "def select_hair(hair_type):\n",
    "    hair_types=[\"hairA\", \"hairB\", \"hairC\"]\n",
    "    hair_dict=dict(zip(hair_types, range(len(hair_types))))"
   ]
  },
  {
   "cell_type": "code",
   "execution_count": null,
   "metadata": {
    "collapsed": true
   },
   "outputs": [],
   "source": [
    "def select_character(char_name):\n",
    "    \"\"\"selects the character corresponding to char_name\"\"\"\n",
    "    "
   ]
  }
 ],
 "metadata": {
  "kernelspec": {
   "display_name": "Python 3",
   "language": "python",
   "name": "python3"
  },
  "language_info": {
   "codemirror_mode": {
    "name": "ipython",
    "version": 3
   },
   "file_extension": ".py",
   "mimetype": "text/x-python",
   "name": "python",
   "nbconvert_exporter": "python",
   "pygments_lexer": "ipython3",
   "version": "3.6.0"
  }
 },
 "nbformat": 4,
 "nbformat_minor": 2
}
